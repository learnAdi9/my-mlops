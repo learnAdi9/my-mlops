{
  "cells": [
    {
      "cell_type": "markdown",
      "metadata": {
        "id": "lcQJ7najgWZp"
      },
      "source": [
        "# Start"
      ],
      "id": "lcQJ7najgWZp"
    },
    {
      "cell_type": "code",
      "metadata": {
        "id": "n-d5JfUQgVWb"
      },
      "source": [
        "from IPython import InteractiveShell\n",
        "InteractiveShell.ast_node_interactivity = 'all'"
      ],
      "execution_count": 1,
      "outputs": [],
      "id": "n-d5JfUQgVWb"
    },
    {
      "cell_type": "code",
      "source": [
        "from google.colab import drive\n",
        "drive.mount('/content/drive')"
      ],
      "metadata": {
        "colab": {
          "base_uri": "https://localhost:8080/"
        },
        "id": "KJ9sDXn1XOQ-",
        "outputId": "45580de3-9c80-4f28-af34-0bf5b4ce5b78"
      },
      "execution_count": 2,
      "outputs": [
        {
          "output_type": "stream",
          "name": "stdout",
          "text": [
            "Mounted at /content/drive\n"
          ]
        }
      ],
      "id": "KJ9sDXn1XOQ-"
    },
    {
      "cell_type": "code",
      "source": [
        "%pwd\n",
        "%cd drive/My Drive/Works/X-ops/ml-ops/zCamp/mlflow_colab\n",
        "!python --version"
      ],
      "metadata": {
        "colab": {
          "base_uri": "https://localhost:8080/",
          "height": 72
        },
        "id": "r5MBVs1xaJlm",
        "outputId": "2149e598-99fb-497b-f2bc-e4c2a600c16d"
      },
      "execution_count": 3,
      "outputs": [
        {
          "output_type": "execute_result",
          "data": {
            "text/plain": [
              "'/content'"
            ],
            "application/vnd.google.colaboratory.intrinsic+json": {
              "type": "string"
            }
          },
          "metadata": {},
          "execution_count": 3
        },
        {
          "output_type": "stream",
          "name": "stdout",
          "text": [
            "/content/drive/My Drive/Works/X-ops/ml-ops/zCamp/mlflow_colab\n",
            "Python 3.10.12\n"
          ]
        }
      ],
      "id": "r5MBVs1xaJlm"
    },
    {
      "cell_type": "markdown",
      "id": "8116e19d",
      "metadata": {
        "id": "8116e19d"
      },
      "source": [
        "# 💻 Installation - Environment"
      ]
    },
    {
      "cell_type": "code",
      "source": [
        "# Install mlflow\n",
        "%pip install -q mlflow databricks-sdk\n",
        "\n",
        "# check installed version\n",
        "!mlflow --version #Q1-Ans"
      ],
      "metadata": {
        "id": "HUTFch_EIfZm",
        "colab": {
          "base_uri": "https://localhost:8080/"
        },
        "outputId": "91e7ae6d-0230-47a9-f1d5-865a85b47b30"
      },
      "id": "HUTFch_EIfZm",
      "execution_count": 4,
      "outputs": [
        {
          "output_type": "stream",
          "name": "stdout",
          "text": [
            "\u001b[2K     \u001b[90m━━━━━━━━━━━━━━━━━━━━━━━━━━━━━━━━━━━━━━━━\u001b[0m \u001b[32m25.0/25.0 MB\u001b[0m \u001b[31m41.4 MB/s\u001b[0m eta \u001b[36m0:00:00\u001b[0m\n",
            "\u001b[2K     \u001b[90m━━━━━━━━━━━━━━━━━━━━━━━━━━━━━━━━━━━━━━━━\u001b[0m \u001b[32m497.1/497.1 kB\u001b[0m \u001b[31m34.4 MB/s\u001b[0m eta \u001b[36m0:00:00\u001b[0m\n",
            "\u001b[2K     \u001b[90m━━━━━━━━━━━━━━━━━━━━━━━━━━━━━━━━━━━━━━━━\u001b[0m \u001b[32m233.4/233.4 kB\u001b[0m \u001b[31m22.7 MB/s\u001b[0m eta \u001b[36m0:00:00\u001b[0m\n",
            "\u001b[2K     \u001b[90m━━━━━━━━━━━━━━━━━━━━━━━━━━━━━━━━━━━━━━━━\u001b[0m \u001b[32m147.8/147.8 kB\u001b[0m \u001b[31m17.1 MB/s\u001b[0m eta \u001b[36m0:00:00\u001b[0m\n",
            "\u001b[2K     \u001b[90m━━━━━━━━━━━━━━━━━━━━━━━━━━━━━━━━━━━━━━━━\u001b[0m \u001b[32m207.3/207.3 kB\u001b[0m \u001b[31m22.8 MB/s\u001b[0m eta \u001b[36m0:00:00\u001b[0m\n",
            "\u001b[2K     \u001b[90m━━━━━━━━━━━━━━━━━━━━━━━━━━━━━━━━━━━━━━━━\u001b[0m \u001b[32m128.2/128.2 kB\u001b[0m \u001b[31m14.9 MB/s\u001b[0m eta \u001b[36m0:00:00\u001b[0m\n",
            "\u001b[2K     \u001b[90m━━━━━━━━━━━━━━━━━━━━━━━━━━━━━━━━━━━━━━━━\u001b[0m \u001b[32m60.1/60.1 kB\u001b[0m \u001b[31m7.4 MB/s\u001b[0m eta \u001b[36m0:00:00\u001b[0m\n",
            "\u001b[2K     \u001b[90m━━━━━━━━━━━━━━━━━━━━━━━━━━━━━━━━━━━━━━━━\u001b[0m \u001b[32m106.1/106.1 kB\u001b[0m \u001b[31m12.4 MB/s\u001b[0m eta \u001b[36m0:00:00\u001b[0m\n",
            "\u001b[2K     \u001b[90m━━━━━━━━━━━━━━━━━━━━━━━━━━━━━━━━━━━━━━━━\u001b[0m \u001b[32m84.4/84.4 kB\u001b[0m \u001b[31m10.3 MB/s\u001b[0m eta \u001b[36m0:00:00\u001b[0m\n",
            "\u001b[2K     \u001b[90m━━━━━━━━━━━━━━━━━━━━━━━━━━━━━━━━━━━━━━━━\u001b[0m \u001b[32m78.6/78.6 kB\u001b[0m \u001b[31m8.8 MB/s\u001b[0m eta \u001b[36m0:00:00\u001b[0m\n",
            "\u001b[2K     \u001b[90m━━━━━━━━━━━━━━━━━━━━━━━━━━━━━━━━━━━━━━━━\u001b[0m \u001b[32m62.7/62.7 kB\u001b[0m \u001b[31m6.7 MB/s\u001b[0m eta \u001b[36m0:00:00\u001b[0m\n",
            "\u001b[2K     \u001b[90m━━━━━━━━━━━━━━━━━━━━━━━━━━━━━━━━━━━━━━━━\u001b[0m \u001b[32m202.9/202.9 kB\u001b[0m \u001b[31m21.5 MB/s\u001b[0m eta \u001b[36m0:00:00\u001b[0m\n",
            "\u001b[2K     \u001b[90m━━━━━━━━━━━━━━━━━━━━━━━━━━━━━━━━━━━━━━━━\u001b[0m \u001b[32m52.8/52.8 kB\u001b[0m \u001b[31m6.3 MB/s\u001b[0m eta \u001b[36m0:00:00\u001b[0m\n",
            "\u001b[?25hmlflow, version 2.13.0\n"
          ]
        }
      ]
    },
    {
      "cell_type": "markdown",
      "source": [
        "# EDA to Homework-2!!"
      ],
      "metadata": {
        "id": "QG3gVGS_63Ch"
      },
      "id": "QG3gVGS_63Ch"
    },
    {
      "cell_type": "markdown",
      "source": [
        "* [Data Source](https://www.nyc.gov/site/tlc/about/tlc-trip-record-data.page)\n",
        "* Ref1: https://mlflow.org/docs/latest/getting-started/tracking-server-overview/index.html"
      ],
      "metadata": {
        "id": "BwHNeZvN14hr"
      },
      "id": "BwHNeZvN14hr"
    },
    {
      "cell_type": "code",
      "source": [
        "# Running Pre-Exisiting files: Q2-Ans\n",
        "!python preprocess_data.py --raw_data_path '/content/drive/My Drive/Works/X-ops/ml-ops/zCamp/mlflow_colab' --dest_path ./output"
      ],
      "metadata": {
        "id": "6PR5jz6T3Lz0"
      },
      "id": "6PR5jz6T3Lz0",
      "execution_count": 5,
      "outputs": []
    },
    {
      "cell_type": "code",
      "source": [
        "# Running a model without HyperOpt: $$$ BASE MODEL $$$ : Q3-Ans\n",
        "!python train.py --data_path '/content/drive/My Drive/Works/X-ops/ml-ops/zCamp/mlflow_colab/output'"
      ],
      "metadata": {
        "colab": {
          "base_uri": "https://localhost:8080/"
        },
        "id": "11IEU0yU-KUQ",
        "outputId": "cb35aabd-b0f8-48d9-a8aa-f7849868359b"
      },
      "id": "11IEU0yU-KUQ",
      "execution_count": null,
      "outputs": [
        {
          "output_type": "stream",
          "name": "stdout",
          "text": [
            "RMSE:  5.431162180141208\n"
          ]
        }
      ]
    },
    {
      "cell_type": "code",
      "source": [
        "# Lets use Data Bricks : https://community.cloud.databricks.com/\n",
        "# Username: 2021fc04004@wilp.bits-pilani.ac.in\n",
        "import mlflow\n",
        "mlflow.login()"
      ],
      "metadata": {
        "colab": {
          "base_uri": "https://localhost:8080/"
        },
        "id": "iRwItVizsvuP",
        "outputId": "80014307-d307-4724-9496-5de44c35c71c"
      },
      "id": "iRwItVizsvuP",
      "execution_count": 7,
      "outputs": [
        {
          "output_type": "stream",
          "name": "stderr",
          "text": [
            "2024/05/29 13:40:16 INFO mlflow.utils.credentials: No valid Databricks credentials found, please enter your credentials...\n"
          ]
        },
        {
          "name": "stdout",
          "output_type": "stream",
          "text": [
            "Databricks Host (should begin with https://): https://community.cloud.databricks.com/\n",
            "Username: 2021fc04004@wilp.bits-pilani.ac.in\n",
            "Password: ··········\n"
          ]
        },
        {
          "output_type": "stream",
          "name": "stderr",
          "text": [
            "2024/05/29 13:42:10 INFO mlflow.utils.credentials: Successfully connected to MLflow hosted tracking server! Host: https://community.cloud.databricks.com.\n"
          ]
        }
      ]
    },
    {
      "cell_type": "code",
      "source": [
        "# Mlflow in Data Bricks from Colab!\n",
        "mlflow.set_tracking_uri(\"databricks\")\n",
        "mlflow.set_experiment(\"/Users/2021fc04004@wilp.bits-pilani.ac.in/zCamp02HW\")"
      ],
      "metadata": {
        "id": "S9wLDPCts3e2"
      },
      "id": "S9wLDPCts3e2",
      "execution_count": null,
      "outputs": []
    },
    {
      "cell_type": "code",
      "source": [
        "# Running Pre-Trained model with HyperOpt and Tracking the Runs in mlfow on \"Databricks\":\n",
        "!python hpo1.py # Q5-Ans"
      ],
      "metadata": {
        "colab": {
          "base_uri": "https://localhost:8080/"
        },
        "id": "0EX54tJRkphe",
        "outputId": "6720bba3-9c04-4e52-ab74-94da935edf81"
      },
      "id": "0EX54tJRkphe",
      "execution_count": 8,
      "outputs": [
        {
          "output_type": "stream",
          "name": "stdout",
          "text": [
            "100% 15/15 [01:49<00:00,  7.33s/trial, best loss: 5.335419588556921]\n"
          ]
        }
      ]
    },
    {
      "cell_type": "code",
      "source": [
        "# Register the Models and Select Best Model on Test Data (March-2023 data):\n",
        "!python register_model1.py # 'max_depth' KeyError"
      ],
      "metadata": {
        "id": "lA0026bJsq70"
      },
      "id": "lA0026bJsq70",
      "execution_count": null,
      "outputs": []
    }
  ],
  "metadata": {
    "kernelspec": {
      "display_name": "Python 3",
      "name": "python3"
    },
    "language_info": {
      "name": "python"
    },
    "colab": {
      "provenance": []
    }
  },
  "nbformat": 4,
  "nbformat_minor": 5
}
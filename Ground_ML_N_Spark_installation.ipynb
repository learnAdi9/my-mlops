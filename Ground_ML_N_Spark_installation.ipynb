{
  "nbformat": 4,
  "nbformat_minor": 0,
  "metadata": {
    "colab": {
      "provenance": []
    },
    "kernelspec": {
      "name": "python3",
      "display_name": "Python 3"
    },
    "language_info": {
      "name": "python"
    }
  },
  "cells": [
    {
      "cell_type": "markdown",
      "source": [
        "# (1) Foundations:"
      ],
      "metadata": {
        "id": "iSGm0C1tfEsr"
      }
    },
    {
      "cell_type": "code",
      "source": [
        "# Useful snippets\n",
        "#------Colab:\n",
        "from IPython import InteractiveShell\n",
        "InteractiveShell.ast_node_interactivity = 'all'\n",
        "#------Mount Google Drive:\n",
        "from google.colab import drive\n",
        "drive.mount('/content/drive')\n",
        "#------PWD & Py Version:\n",
        "%pwd\n",
        "%cd drive/My Drive/Works\n",
        "!python --version"
      ],
      "metadata": {
        "id": "Asf_4PJjg7cb",
        "colab": {
          "base_uri": "https://localhost:8080/"
        },
        "outputId": "ab84f70f-d224-40cb-c99b-1fc3849dc325"
      },
      "execution_count": 1,
      "outputs": [
        {
          "output_type": "stream",
          "name": "stdout",
          "text": [
            "Mounted at /content/drive\n",
            "/content/drive/My Drive/Works\n",
            "Python 3.10.12\n"
          ]
        }
      ]
    },
    {
      "cell_type": "code",
      "source": [
        "# Basic Packs\n",
        "import numpy as np\n",
        "import pandas as pd\n",
        "import matplotlib.pyplot as plt\n",
        "import seaborn as sns"
      ],
      "metadata": {
        "id": "UFdFi1VjfQ7I"
      },
      "execution_count": 2,
      "outputs": []
    },
    {
      "cell_type": "markdown",
      "source": [
        "---------------NUMPY & PANDAS----------------"
      ],
      "metadata": {
        "id": "IFfYJAo3f1Ms"
      }
    },
    {
      "cell_type": "code",
      "source": [
        "# Q1. Play Time...\n",
        "pd.__version__\n",
        "np.__version__"
      ],
      "metadata": {
        "id": "zOgrS4Yqf6Im",
        "colab": {
          "base_uri": "https://localhost:8080/",
          "height": 54
        },
        "outputId": "0b0a587e-8719-4d0b-d8f9-d1504059e092"
      },
      "execution_count": 3,
      "outputs": [
        {
          "output_type": "execute_result",
          "data": {
            "text/plain": [
              "'2.1.4'"
            ],
            "application/vnd.google.colaboratory.intrinsic+json": {
              "type": "string"
            }
          },
          "metadata": {},
          "execution_count": 3
        },
        {
          "output_type": "execute_result",
          "data": {
            "text/plain": [
              "'1.26.4'"
            ],
            "application/vnd.google.colaboratory.intrinsic+json": {
              "type": "string"
            }
          },
          "metadata": {},
          "execution_count": 3
        }
      ]
    },
    {
      "cell_type": "code",
      "source": [
        "# Q2. Data & Records...\n",
        "df = pd.read_csv('https://raw.githubusercontent.com/alexeygrigorev/datasets/master/laptops.csv')\n",
        "df.info()"
      ],
      "metadata": {
        "colab": {
          "base_uri": "https://localhost:8080/"
        },
        "id": "VlmsVwxTMswm",
        "outputId": "f8a736b2-e3a1-47cb-e357-12ccf5dcda89"
      },
      "execution_count": 5,
      "outputs": [
        {
          "output_type": "stream",
          "name": "stdout",
          "text": [
            "<class 'pandas.core.frame.DataFrame'>\n",
            "RangeIndex: 2160 entries, 0 to 2159\n",
            "Data columns (total 12 columns):\n",
            " #   Column        Non-Null Count  Dtype  \n",
            "---  ------        --------------  -----  \n",
            " 0   Laptop        2160 non-null   object \n",
            " 1   Status        2160 non-null   object \n",
            " 2   Brand         2160 non-null   object \n",
            " 3   Model         2160 non-null   object \n",
            " 4   CPU           2160 non-null   object \n",
            " 5   RAM           2160 non-null   int64  \n",
            " 6   Storage       2160 non-null   int64  \n",
            " 7   Storage type  2118 non-null   object \n",
            " 8   GPU           789 non-null    object \n",
            " 9   Screen        2156 non-null   float64\n",
            " 10  Touch         2160 non-null   object \n",
            " 11  Final Price   2160 non-null   float64\n",
            "dtypes: float64(2), int64(2), object(8)\n",
            "memory usage: 202.6+ KB\n"
          ]
        }
      ]
    },
    {
      "cell_type": "code",
      "source": [
        "# Q3. Laptop Brands\n",
        "df['Brand'].nunique()"
      ],
      "metadata": {
        "colab": {
          "base_uri": "https://localhost:8080/"
        },
        "id": "8OrErvfoNK1n",
        "outputId": "c94c263a-a50e-4a88-f5df-0bf992ccbecc"
      },
      "execution_count": 7,
      "outputs": [
        {
          "output_type": "execute_result",
          "data": {
            "text/plain": [
              "27"
            ]
          },
          "metadata": {},
          "execution_count": 7
        }
      ]
    },
    {
      "cell_type": "code",
      "source": [
        "# Q4. Missing Values\n",
        "df.isnull().sum()"
      ],
      "metadata": {
        "colab": {
          "base_uri": "https://localhost:8080/",
          "height": 460
        },
        "id": "DiD9hqluNflK",
        "outputId": "321cfdda-4195-430e-a985-eaf3c09c9e0b"
      },
      "execution_count": 8,
      "outputs": [
        {
          "output_type": "execute_result",
          "data": {
            "text/plain": [
              "Laptop             0\n",
              "Status             0\n",
              "Brand              0\n",
              "Model              0\n",
              "CPU                0\n",
              "RAM                0\n",
              "Storage            0\n",
              "Storage type      42\n",
              "GPU             1371\n",
              "Screen             4\n",
              "Touch              0\n",
              "Final Price        0\n",
              "dtype: int64"
            ],
            "text/html": [
              "<div>\n",
              "<style scoped>\n",
              "    .dataframe tbody tr th:only-of-type {\n",
              "        vertical-align: middle;\n",
              "    }\n",
              "\n",
              "    .dataframe tbody tr th {\n",
              "        vertical-align: top;\n",
              "    }\n",
              "\n",
              "    .dataframe thead th {\n",
              "        text-align: right;\n",
              "    }\n",
              "</style>\n",
              "<table border=\"1\" class=\"dataframe\">\n",
              "  <thead>\n",
              "    <tr style=\"text-align: right;\">\n",
              "      <th></th>\n",
              "      <th>0</th>\n",
              "    </tr>\n",
              "  </thead>\n",
              "  <tbody>\n",
              "    <tr>\n",
              "      <th>Laptop</th>\n",
              "      <td>0</td>\n",
              "    </tr>\n",
              "    <tr>\n",
              "      <th>Status</th>\n",
              "      <td>0</td>\n",
              "    </tr>\n",
              "    <tr>\n",
              "      <th>Brand</th>\n",
              "      <td>0</td>\n",
              "    </tr>\n",
              "    <tr>\n",
              "      <th>Model</th>\n",
              "      <td>0</td>\n",
              "    </tr>\n",
              "    <tr>\n",
              "      <th>CPU</th>\n",
              "      <td>0</td>\n",
              "    </tr>\n",
              "    <tr>\n",
              "      <th>RAM</th>\n",
              "      <td>0</td>\n",
              "    </tr>\n",
              "    <tr>\n",
              "      <th>Storage</th>\n",
              "      <td>0</td>\n",
              "    </tr>\n",
              "    <tr>\n",
              "      <th>Storage type</th>\n",
              "      <td>42</td>\n",
              "    </tr>\n",
              "    <tr>\n",
              "      <th>GPU</th>\n",
              "      <td>1371</td>\n",
              "    </tr>\n",
              "    <tr>\n",
              "      <th>Screen</th>\n",
              "      <td>4</td>\n",
              "    </tr>\n",
              "    <tr>\n",
              "      <th>Touch</th>\n",
              "      <td>0</td>\n",
              "    </tr>\n",
              "    <tr>\n",
              "      <th>Final Price</th>\n",
              "      <td>0</td>\n",
              "    </tr>\n",
              "  </tbody>\n",
              "</table>\n",
              "</div><br><label><b>dtype:</b> int64</label>"
            ]
          },
          "metadata": {},
          "execution_count": 8
        }
      ]
    },
    {
      "cell_type": "code",
      "source": [
        "# Q5. Maximum Final price of Dell Notebooks in df\n",
        "df[df['Brand'] == 'Dell']['Final Price'].max()"
      ],
      "metadata": {
        "colab": {
          "base_uri": "https://localhost:8080/"
        },
        "id": "pbBtGrdwOfo7",
        "outputId": "3fdc7084-3e61-40fc-d2b6-939382e9e6b7"
      },
      "execution_count": 9,
      "outputs": [
        {
          "output_type": "execute_result",
          "data": {
            "text/plain": [
              "3936.0"
            ]
          },
          "metadata": {},
          "execution_count": 9
        }
      ]
    },
    {
      "cell_type": "code",
      "source": [
        "# Q6. Median of Screen column Fill up with Mode and get the difference\n",
        "df['Screen'].median()\n",
        "df['Screen'].fillna(df['Screen'].mode()[0], inplace=True)\n",
        "df['Screen'].median()"
      ],
      "metadata": {
        "colab": {
          "base_uri": "https://localhost:8080/"
        },
        "id": "j3pGNJofOztZ",
        "outputId": "285cc5ae-909e-4772-e62f-0dfb7f8fc639"
      },
      "execution_count": 19,
      "outputs": [
        {
          "output_type": "execute_result",
          "data": {
            "text/plain": [
              "15.6"
            ]
          },
          "metadata": {},
          "execution_count": 19
        },
        {
          "output_type": "execute_result",
          "data": {
            "text/plain": [
              "15.6"
            ]
          },
          "metadata": {},
          "execution_count": 19
        }
      ]
    },
    {
      "cell_type": "code",
      "source": [
        "# Q7. Sum of weights\n",
        "# Select all the \"Innjoo\" laptops from the dataset.\n",
        "# Select only columns RAM, Storage, Screen.\n",
        "# Get the underlying NumPy array. Let's call it X.\n",
        "# Compute matrix-matrix multiplication between the transpose of X and X. To get the transpose, use X.T. Let's call the result XTX.\n",
        "# Compute the inverse of XTX.\n",
        "# Create an array y with values [1100, 1300, 800, 900, 1000, 1100].\n",
        "# Multiply the inverse of XTX with the transpose of X, and then multiply the result by y. Call the result w.\n",
        "# What's the sum of all the elements of the result?\n",
        "X = df[df['Brand'] == 'Innjoo'][['RAM', 'Storage', 'Screen']]\n",
        "XTX = X.T.dot(X)\n",
        "y = np.array([1100, 1300, 800, 900, 1000, 1100])\n",
        "w = np.linalg.inv(XTX).dot(X.T).dot(y)\n",
        "w\n",
        "w.sum()"
      ],
      "metadata": {
        "colab": {
          "base_uri": "https://localhost:8080/"
        },
        "id": "rNlTM8pDUUIJ",
        "outputId": "49430ba0-0abc-4ce1-eb23-7b11ce533a03"
      },
      "execution_count": 21,
      "outputs": [
        {
          "output_type": "execute_result",
          "data": {
            "text/plain": [
              "array([45.58076606,  0.42783519, 45.29127938])"
            ]
          },
          "metadata": {},
          "execution_count": 21
        },
        {
          "output_type": "execute_result",
          "data": {
            "text/plain": [
              "91.2998806299555"
            ]
          },
          "metadata": {},
          "execution_count": 21
        }
      ]
    },
    {
      "cell_type": "markdown",
      "source": [
        "# (2) SPARK"
      ],
      "metadata": {
        "id": "0ukEIeIhVBBz"
      }
    },
    {
      "cell_type": "code",
      "execution_count": null,
      "metadata": {
        "id": "k4eXQPUbTt1F"
      },
      "outputs": [],
      "source": [
        "#install java\n",
        "!apt-get install openjdk-8-jdk-headless -qq > /dev/null"
      ]
    },
    {
      "cell_type": "code",
      "source": [
        "#create java home variable\n",
        "import os\n",
        "os.environ[\"JAVA_HOME\"] = \"/usr/lib/jvm/java-8-openjdk-amd64\""
      ],
      "metadata": {
        "id": "PirwzEn1U38L"
      },
      "execution_count": null,
      "outputs": []
    },
    {
      "cell_type": "code",
      "source": [
        "#download SPARK (NEW DOWNLOAD LINK)\n",
        "!wget -q http://apache.osuosl.org/spark/spark-3.3.1/spark-3.3.1-bin-hadoop3.tgz"
      ],
      "metadata": {
        "id": "zz7RdwDKU_cY"
      },
      "execution_count": null,
      "outputs": []
    },
    {
      "cell_type": "code",
      "source": [
        "#extract the spark file to the current folder\n",
        "!tar xf spark-3.3.1-bin-hadoop3.tgz"
      ],
      "metadata": {
        "id": "hoRHmmkRVTF8"
      },
      "execution_count": null,
      "outputs": []
    },
    {
      "cell_type": "code",
      "source": [
        "#create spark home variable\n",
        "import os\n",
        "os.environ[\"SPARK_HOME\"] = \"/content/spark-3.3.1-bin-hadoop3\""
      ],
      "metadata": {
        "id": "DOJJTfCDVV3I"
      },
      "execution_count": null,
      "outputs": []
    },
    {
      "cell_type": "code",
      "source": [
        "#install findspark\n",
        "#findspark searches pyspark installation on the server\n",
        "#and adds PySpark installation path to sys.path at runtime\n",
        "#so that PySpark modules can be imported\n",
        "\n",
        "!pip install -q findspark"
      ],
      "metadata": {
        "id": "_fvpt8SkVaTm"
      },
      "execution_count": null,
      "outputs": []
    },
    {
      "cell_type": "code",
      "source": [
        "#import findspark\n",
        "import findspark\n",
        "findspark.init()"
      ],
      "metadata": {
        "id": "412Tzrv4VcxW"
      },
      "execution_count": null,
      "outputs": []
    },
    {
      "cell_type": "code",
      "source": [
        "#import pyspark (added by findspark during runtime)\n",
        "import pyspark"
      ],
      "metadata": {
        "id": "4q9_Y83xVfCR"
      },
      "execution_count": null,
      "outputs": []
    },
    {
      "cell_type": "code",
      "source": [
        "#import sparksession\n",
        "from pyspark.sql import SparkSession"
      ],
      "metadata": {
        "id": "Q6fkfMuhVhQm"
      },
      "execution_count": null,
      "outputs": []
    },
    {
      "cell_type": "code",
      "source": [
        "#create sparksession object and provide appName\n",
        "spark=SparkSession.builder.appName(\"local[*]\").getOrCreate()"
      ],
      "metadata": {
        "id": "8k-9MGwDVkRi"
      },
      "execution_count": null,
      "outputs": []
    },
    {
      "cell_type": "code",
      "source": [
        "#print spark version\n",
        "print(\"Apache Spark version: \", spark.version)"
      ],
      "metadata": {
        "colab": {
          "base_uri": "https://localhost:8080/"
        },
        "id": "KL2bKe5gVn5_",
        "outputId": "72b65815-208d-4206-eb92-bad987ac6899"
      },
      "execution_count": null,
      "outputs": [
        {
          "output_type": "stream",
          "name": "stdout",
          "text": [
            "Apache Spark version:  3.3.1\n"
          ]
        }
      ]
    },
    {
      "cell_type": "code",
      "source": [
        "#create sample data for spark\n",
        "data = [(\"James\",\"\",\"Smith\",30,\"M\",60000),\n",
        "        (\"Michael\",\"Rose\",\"\",50,\"M\",70000),\n",
        "        (\"Robert\",\"\",\"Williams\",42,\"\",400000),\n",
        "        (\"Maria\",\"Anne\",\"Jones\",38,\"F\",500000),\n",
        "        (\"Jen\",\"Mary\",\"Brown\",45,\"F\",0)]\n",
        "\n",
        "columns = [\"first_name\",\"middle_name\",\"last_name\",\"Age\",\"gender\",\"salary\"]\n",
        "pysparkDF = spark.createDataFrame(data = data, schema = columns)\n",
        "pysparkDF.printSchema()\n",
        "pysparkDF.show(truncate=False)"
      ],
      "metadata": {
        "colab": {
          "base_uri": "https://localhost:8080/"
        },
        "id": "ptEoUE-MVs3E",
        "outputId": "b099a749-24b4-4557-d911-17d0f0b9d7c4"
      },
      "execution_count": null,
      "outputs": [
        {
          "output_type": "stream",
          "name": "stdout",
          "text": [
            "root\n",
            " |-- first_name: string (nullable = true)\n",
            " |-- middle_name: string (nullable = true)\n",
            " |-- last_name: string (nullable = true)\n",
            " |-- Age: long (nullable = true)\n",
            " |-- gender: string (nullable = true)\n",
            " |-- salary: long (nullable = true)\n",
            "\n",
            "+----------+-----------+---------+---+------+------+\n",
            "|first_name|middle_name|last_name|Age|gender|salary|\n",
            "+----------+-----------+---------+---+------+------+\n",
            "|James     |           |Smith    |30 |M     |60000 |\n",
            "|Michael   |Rose       |         |50 |M     |70000 |\n",
            "|Robert    |           |Williams |42 |      |400000|\n",
            "|Maria     |Anne       |Jones    |38 |F     |500000|\n",
            "|Jen       |Mary       |Brown    |45 |F     |0     |\n",
            "+----------+-----------+---------+---+------+------+\n",
            "\n"
          ]
        }
      ]
    },
    {
      "cell_type": "code",
      "source": [
        "from pyspark.sql.functions import mean, col, max\n",
        "#Example 1\n",
        "df2=pysparkDF.select(mean(\"age\"),mean(\"salary\")).show()\n",
        "#Example 2\n",
        "pysparkDF.groupBy(\"gender\") \\\n",
        "         .agg(mean(\"age\"),mean(\"salary\"),max(\"salary\")) \\\n",
        "         .show()"
      ],
      "metadata": {
        "id": "cImLfnoVVxRM",
        "outputId": "baa48d87-7485-44fb-8d70-0d9e8e94e204",
        "colab": {
          "base_uri": "https://localhost:8080/"
        }
      },
      "execution_count": null,
      "outputs": [
        {
          "output_type": "stream",
          "name": "stdout",
          "text": [
            "+--------+-----------+\n",
            "|avg(age)|avg(salary)|\n",
            "+--------+-----------+\n",
            "|    41.0|   206000.0|\n",
            "+--------+-----------+\n",
            "\n",
            "+------+--------+-----------+-----------+\n",
            "|gender|avg(age)|avg(salary)|max(salary)|\n",
            "+------+--------+-----------+-----------+\n",
            "|     M|    40.0|    65000.0|      70000|\n",
            "|     F|    41.5|   250000.0|     500000|\n",
            "|      |    42.0|   400000.0|     400000|\n",
            "+------+--------+-----------+-----------+\n",
            "\n"
          ]
        }
      ]
    }
  ]
}